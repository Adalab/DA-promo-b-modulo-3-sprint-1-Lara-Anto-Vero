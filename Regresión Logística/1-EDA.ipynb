{
 "cells": [
  {
   "cell_type": "code",
   "execution_count": 54,
   "metadata": {},
   "outputs": [],
   "source": [
    "import pandas as pd\n",
    "import numpy as np\n",
    "import sidetable\n",
    "import seaborn as sns\n",
    "import matplotlib.pyplot as plt\n",
    "from datetime import datetime, timedelta\n",
    "pd.options.display.max_columns= None"
   ]
  },
  {
   "cell_type": "markdown",
   "metadata": {},
   "source": [
    "Para los ejercicios de pair programming de Regresión logística temdremos que buscar un dataset (al igual que hicismos en regresión lineal) que usaremosmos a lo largo de los siguientes ejercicios.\n",
    "\n",
    "Se ruega a la hora de realizar la entrega que incluyais el conjunto de datos que hayais decidido emplear para estos ejercicios.\n",
    "\n",
    "**Objetivos**\n",
    "\n",
    "- Buscar un conjunto de datos a analizar\n",
    "Se recomienda que el conjunto de datos a analizar tenga variables numéricas y categóricas, primando que haya más de una variable de tipo numérico.\n",
    "\n",
    "- Explicar los datos y las variables disponibles en el conjunto de datos seleccionado\n",
    "\n",
    "- Realizar un EDA sencillo poniendo en práctica los conocimientos adquiridos hasta el momento.\n",
    "\n",
    "- Interpretación de los resultados."
   ]
  },
  {
   "cell_type": "code",
   "execution_count": 37,
   "metadata": {},
   "outputs": [
    {
     "data": {
      "text/html": [
       "<div>\n",
       "<style scoped>\n",
       "    .dataframe tbody tr th:only-of-type {\n",
       "        vertical-align: middle;\n",
       "    }\n",
       "\n",
       "    .dataframe tbody tr th {\n",
       "        vertical-align: top;\n",
       "    }\n",
       "\n",
       "    .dataframe thead th {\n",
       "        text-align: right;\n",
       "    }\n",
       "</style>\n",
       "<table border=\"1\" class=\"dataframe\">\n",
       "  <thead>\n",
       "    <tr style=\"text-align: right;\">\n",
       "      <th></th>\n",
       "      <th>Name</th>\n",
       "      <th>Author</th>\n",
       "      <th>User Rating</th>\n",
       "      <th>Reviews</th>\n",
       "      <th>Price</th>\n",
       "      <th>Year</th>\n",
       "      <th>Genre</th>\n",
       "    </tr>\n",
       "  </thead>\n",
       "  <tbody>\n",
       "    <tr>\n",
       "      <th>0</th>\n",
       "      <td>10-Day Green Smoothie Cleanse</td>\n",
       "      <td>JJ Smith</td>\n",
       "      <td>4.7</td>\n",
       "      <td>17350</td>\n",
       "      <td>8</td>\n",
       "      <td>2016</td>\n",
       "      <td>Non Fiction</td>\n",
       "    </tr>\n",
       "    <tr>\n",
       "      <th>1</th>\n",
       "      <td>11/22/63: A Novel</td>\n",
       "      <td>Stephen King</td>\n",
       "      <td>4.6</td>\n",
       "      <td>2052</td>\n",
       "      <td>22</td>\n",
       "      <td>2011</td>\n",
       "      <td>Fiction</td>\n",
       "    </tr>\n",
       "    <tr>\n",
       "      <th>2</th>\n",
       "      <td>12 Rules for Life: An Antidote to Chaos</td>\n",
       "      <td>Jordan B. Peterson</td>\n",
       "      <td>4.7</td>\n",
       "      <td>18979</td>\n",
       "      <td>15</td>\n",
       "      <td>2018</td>\n",
       "      <td>Non Fiction</td>\n",
       "    </tr>\n",
       "    <tr>\n",
       "      <th>3</th>\n",
       "      <td>1984 (Signet Classics)</td>\n",
       "      <td>George Orwell</td>\n",
       "      <td>4.7</td>\n",
       "      <td>21424</td>\n",
       "      <td>6</td>\n",
       "      <td>2017</td>\n",
       "      <td>Fiction</td>\n",
       "    </tr>\n",
       "    <tr>\n",
       "      <th>4</th>\n",
       "      <td>5,000 Awesome Facts (About Everything!) (Natio...</td>\n",
       "      <td>National Geographic Kids</td>\n",
       "      <td>4.8</td>\n",
       "      <td>7665</td>\n",
       "      <td>12</td>\n",
       "      <td>2019</td>\n",
       "      <td>Non Fiction</td>\n",
       "    </tr>\n",
       "    <tr>\n",
       "      <th>5</th>\n",
       "      <td>A Dance with Dragons (A Song of Ice and Fire)</td>\n",
       "      <td>George R. R. Martin</td>\n",
       "      <td>4.4</td>\n",
       "      <td>12643</td>\n",
       "      <td>11</td>\n",
       "      <td>2011</td>\n",
       "      <td>Fiction</td>\n",
       "    </tr>\n",
       "    <tr>\n",
       "      <th>6</th>\n",
       "      <td>A Game of Thrones / A Clash of Kings / A Storm...</td>\n",
       "      <td>George R. R. Martin</td>\n",
       "      <td>4.7</td>\n",
       "      <td>19735</td>\n",
       "      <td>30</td>\n",
       "      <td>2014</td>\n",
       "      <td>Fiction</td>\n",
       "    </tr>\n",
       "    <tr>\n",
       "      <th>7</th>\n",
       "      <td>A Gentleman in Moscow: A Novel</td>\n",
       "      <td>Amor Towles</td>\n",
       "      <td>4.7</td>\n",
       "      <td>19699</td>\n",
       "      <td>15</td>\n",
       "      <td>2017</td>\n",
       "      <td>Fiction</td>\n",
       "    </tr>\n",
       "    <tr>\n",
       "      <th>8</th>\n",
       "      <td>A Higher Loyalty: Truth, Lies, and Leadership</td>\n",
       "      <td>James Comey</td>\n",
       "      <td>4.7</td>\n",
       "      <td>5983</td>\n",
       "      <td>3</td>\n",
       "      <td>2018</td>\n",
       "      <td>Non Fiction</td>\n",
       "    </tr>\n",
       "    <tr>\n",
       "      <th>9</th>\n",
       "      <td>A Man Called Ove: A Novel</td>\n",
       "      <td>Fredrik Backman</td>\n",
       "      <td>4.6</td>\n",
       "      <td>23848</td>\n",
       "      <td>8</td>\n",
       "      <td>2016</td>\n",
       "      <td>Fiction</td>\n",
       "    </tr>\n",
       "  </tbody>\n",
       "</table>\n",
       "</div>"
      ],
      "text/plain": [
       "                                                Name  \\\n",
       "0                      10-Day Green Smoothie Cleanse   \n",
       "1                                  11/22/63: A Novel   \n",
       "2            12 Rules for Life: An Antidote to Chaos   \n",
       "3                             1984 (Signet Classics)   \n",
       "4  5,000 Awesome Facts (About Everything!) (Natio...   \n",
       "5      A Dance with Dragons (A Song of Ice and Fire)   \n",
       "6  A Game of Thrones / A Clash of Kings / A Storm...   \n",
       "7                     A Gentleman in Moscow: A Novel   \n",
       "8      A Higher Loyalty: Truth, Lies, and Leadership   \n",
       "9                          A Man Called Ove: A Novel   \n",
       "\n",
       "                     Author  User Rating  Reviews  Price  Year        Genre  \n",
       "0                  JJ Smith          4.7    17350      8  2016  Non Fiction  \n",
       "1              Stephen King          4.6     2052     22  2011      Fiction  \n",
       "2        Jordan B. Peterson          4.7    18979     15  2018  Non Fiction  \n",
       "3             George Orwell          4.7    21424      6  2017      Fiction  \n",
       "4  National Geographic Kids          4.8     7665     12  2019  Non Fiction  \n",
       "5       George R. R. Martin          4.4    12643     11  2011      Fiction  \n",
       "6       George R. R. Martin          4.7    19735     30  2014      Fiction  \n",
       "7               Amor Towles          4.7    19699     15  2017      Fiction  \n",
       "8               James Comey          4.7     5983      3  2018  Non Fiction  \n",
       "9           Fredrik Backman          4.6    23848      8  2016      Fiction  "
      ]
     },
     "execution_count": 37,
     "metadata": {},
     "output_type": "execute_result"
    }
   ],
   "source": [
    "df = pd.read_csv('datos/amazon_bestsellers.csv', index_col=0).reset_index()\n",
    "df.head(10)"
   ]
  },
  {
   "cell_type": "code",
   "execution_count": 38,
   "metadata": {},
   "outputs": [],
   "source": [
    "#Cambiamos el nombre de las columnas\n",
    "\n",
    "nuevas_col={col:col.replace(\" \",\"_\").lower() for col in df.columns}\n",
    "df=df.rename(columns=nuevas_col)"
   ]
  },
  {
   "cell_type": "markdown",
   "metadata": {},
   "source": [
    ">## EXPLICACIÓN DE LAS COLUMNAS \n",
    "\n",
    "- name:nombre del libro. No tiene orden\n",
    "\n",
    "- author: nombre del autor. No tiene orden \n",
    "\n",
    "- user_rating:puntuación del libro según el lector.\n",
    "\n",
    "- reviews: La cantidad de personas que han putnuado el libro.\n",
    "\n",
    "- price: precio del libro\n",
    "\n",
    "- year: año en el que se publica\n",
    "\n",
    "- genre:Género del libro. Dicotómica (ficción/no) No tiene orden\n",
    "\n"
   ]
  },
  {
   "cell_type": "code",
   "execution_count": 40,
   "metadata": {},
   "outputs": [
    {
     "name": "stdout",
     "output_type": "stream",
     "text": [
      "<class 'pandas.core.frame.DataFrame'>\n",
      "RangeIndex: 550 entries, 0 to 549\n",
      "Data columns (total 7 columns):\n",
      " #   Column       Non-Null Count  Dtype  \n",
      "---  ------       --------------  -----  \n",
      " 0   name         550 non-null    object \n",
      " 1   author       550 non-null    object \n",
      " 2   user_rating  550 non-null    float64\n",
      " 3   reviews      550 non-null    int64  \n",
      " 4   price        550 non-null    int64  \n",
      " 5   year         550 non-null    int64  \n",
      " 6   genre        550 non-null    object \n",
      "dtypes: float64(1), int64(3), object(3)\n",
      "memory usage: 30.2+ KB\n"
     ]
    }
   ],
   "source": [
    "df.info() # Por ahora, vemos que los tipos de datos nos sirven tal y como están. \n",
    "#Ya identificaremos más adelante si necesitamos codificar las columnas categóricas."
   ]
  },
  {
   "cell_type": "code",
   "execution_count": 39,
   "metadata": {},
   "outputs": [
    {
     "data": {
      "text/plain": [
       "(550, 7)"
      ]
     },
     "execution_count": 39,
     "metadata": {},
     "output_type": "execute_result"
    }
   ],
   "source": [
    "df.shape # Como el dataset organiza los 50 mejores, creemos que son los 50 mekjores de todos los datos. "
   ]
  },
  {
   "cell_type": "code",
   "execution_count": 41,
   "metadata": {},
   "outputs": [
    {
     "data": {
      "text/html": [
       "<div>\n",
       "<style scoped>\n",
       "    .dataframe tbody tr th:only-of-type {\n",
       "        vertical-align: middle;\n",
       "    }\n",
       "\n",
       "    .dataframe tbody tr th {\n",
       "        vertical-align: top;\n",
       "    }\n",
       "\n",
       "    .dataframe thead th {\n",
       "        text-align: right;\n",
       "    }\n",
       "</style>\n",
       "<table border=\"1\" class=\"dataframe\">\n",
       "  <thead>\n",
       "    <tr style=\"text-align: right;\">\n",
       "      <th></th>\n",
       "      <th>count</th>\n",
       "      <th>mean</th>\n",
       "      <th>std</th>\n",
       "      <th>min</th>\n",
       "      <th>25%</th>\n",
       "      <th>50%</th>\n",
       "      <th>75%</th>\n",
       "      <th>max</th>\n",
       "    </tr>\n",
       "  </thead>\n",
       "  <tbody>\n",
       "    <tr>\n",
       "      <th>user_rating</th>\n",
       "      <td>550.0</td>\n",
       "      <td>4.618364</td>\n",
       "      <td>0.226980</td>\n",
       "      <td>3.3</td>\n",
       "      <td>4.5</td>\n",
       "      <td>4.7</td>\n",
       "      <td>4.80</td>\n",
       "      <td>4.9</td>\n",
       "    </tr>\n",
       "    <tr>\n",
       "      <th>reviews</th>\n",
       "      <td>550.0</td>\n",
       "      <td>11953.281818</td>\n",
       "      <td>11731.132017</td>\n",
       "      <td>37.0</td>\n",
       "      <td>4058.0</td>\n",
       "      <td>8580.0</td>\n",
       "      <td>17253.25</td>\n",
       "      <td>87841.0</td>\n",
       "    </tr>\n",
       "    <tr>\n",
       "      <th>price</th>\n",
       "      <td>550.0</td>\n",
       "      <td>13.100000</td>\n",
       "      <td>10.842262</td>\n",
       "      <td>0.0</td>\n",
       "      <td>7.0</td>\n",
       "      <td>11.0</td>\n",
       "      <td>16.00</td>\n",
       "      <td>105.0</td>\n",
       "    </tr>\n",
       "    <tr>\n",
       "      <th>year</th>\n",
       "      <td>550.0</td>\n",
       "      <td>2014.000000</td>\n",
       "      <td>3.165156</td>\n",
       "      <td>2009.0</td>\n",
       "      <td>2011.0</td>\n",
       "      <td>2014.0</td>\n",
       "      <td>2017.00</td>\n",
       "      <td>2019.0</td>\n",
       "    </tr>\n",
       "  </tbody>\n",
       "</table>\n",
       "</div>"
      ],
      "text/plain": [
       "             count          mean           std     min     25%     50%  \\\n",
       "user_rating  550.0      4.618364      0.226980     3.3     4.5     4.7   \n",
       "reviews      550.0  11953.281818  11731.132017    37.0  4058.0  8580.0   \n",
       "price        550.0     13.100000     10.842262     0.0     7.0    11.0   \n",
       "year         550.0   2014.000000      3.165156  2009.0  2011.0  2014.0   \n",
       "\n",
       "                  75%      max  \n",
       "user_rating      4.80      4.9  \n",
       "reviews      17253.25  87841.0  \n",
       "price           16.00    105.0  \n",
       "year          2017.00   2019.0  "
      ]
     },
     "execution_count": 41,
     "metadata": {},
     "output_type": "execute_result"
    }
   ],
   "source": [
    "df.describe().T"
   ]
  },
  {
   "cell_type": "code",
   "execution_count": 42,
   "metadata": {},
   "outputs": [
    {
     "data": {
      "text/html": [
       "<div>\n",
       "<style scoped>\n",
       "    .dataframe tbody tr th:only-of-type {\n",
       "        vertical-align: middle;\n",
       "    }\n",
       "\n",
       "    .dataframe tbody tr th {\n",
       "        vertical-align: top;\n",
       "    }\n",
       "\n",
       "    .dataframe thead th {\n",
       "        text-align: right;\n",
       "    }\n",
       "</style>\n",
       "<table border=\"1\" class=\"dataframe\">\n",
       "  <thead>\n",
       "    <tr style=\"text-align: right;\">\n",
       "      <th></th>\n",
       "      <th>count</th>\n",
       "      <th>unique</th>\n",
       "      <th>top</th>\n",
       "      <th>freq</th>\n",
       "    </tr>\n",
       "  </thead>\n",
       "  <tbody>\n",
       "    <tr>\n",
       "      <th>name</th>\n",
       "      <td>550</td>\n",
       "      <td>351</td>\n",
       "      <td>Publication Manual of the American Psychologic...</td>\n",
       "      <td>10</td>\n",
       "    </tr>\n",
       "    <tr>\n",
       "      <th>author</th>\n",
       "      <td>550</td>\n",
       "      <td>248</td>\n",
       "      <td>Jeff Kinney</td>\n",
       "      <td>12</td>\n",
       "    </tr>\n",
       "    <tr>\n",
       "      <th>genre</th>\n",
       "      <td>550</td>\n",
       "      <td>2</td>\n",
       "      <td>Non Fiction</td>\n",
       "      <td>310</td>\n",
       "    </tr>\n",
       "  </tbody>\n",
       "</table>\n",
       "</div>"
      ],
      "text/plain": [
       "       count unique                                                top freq\n",
       "name     550    351  Publication Manual of the American Psychologic...   10\n",
       "author   550    248                                        Jeff Kinney   12\n",
       "genre    550      2                                        Non Fiction  310"
      ]
     },
     "execution_count": 42,
     "metadata": {},
     "output_type": "execute_result"
    }
   ],
   "source": [
    "df.describe(include='object').T"
   ]
  },
  {
   "cell_type": "code",
   "execution_count": 50,
   "metadata": {},
   "outputs": [
    {
     "data": {
      "text/html": [
       "<div>\n",
       "<style scoped>\n",
       "    .dataframe tbody tr th:only-of-type {\n",
       "        vertical-align: middle;\n",
       "    }\n",
       "\n",
       "    .dataframe tbody tr th {\n",
       "        vertical-align: top;\n",
       "    }\n",
       "\n",
       "    .dataframe thead th {\n",
       "        text-align: right;\n",
       "    }\n",
       "</style>\n",
       "<table border=\"1\" class=\"dataframe\">\n",
       "  <thead>\n",
       "    <tr style=\"text-align: right;\">\n",
       "      <th></th>\n",
       "      <th>name</th>\n",
       "      <th>count</th>\n",
       "      <th>percent</th>\n",
       "      <th>cumulative_count</th>\n",
       "      <th>cumulative_percent</th>\n",
       "    </tr>\n",
       "  </thead>\n",
       "  <tbody>\n",
       "    <tr>\n",
       "      <th>0</th>\n",
       "      <td>Publication Manual of the American Psychologic...</td>\n",
       "      <td>10</td>\n",
       "      <td>1.818182</td>\n",
       "      <td>10</td>\n",
       "      <td>1.818182</td>\n",
       "    </tr>\n",
       "    <tr>\n",
       "      <th>1</th>\n",
       "      <td>StrengthsFinder 2.0</td>\n",
       "      <td>9</td>\n",
       "      <td>1.636364</td>\n",
       "      <td>19</td>\n",
       "      <td>3.454545</td>\n",
       "    </tr>\n",
       "    <tr>\n",
       "      <th>2</th>\n",
       "      <td>Oh, the Places You'll Go!</td>\n",
       "      <td>8</td>\n",
       "      <td>1.454545</td>\n",
       "      <td>27</td>\n",
       "      <td>4.909091</td>\n",
       "    </tr>\n",
       "    <tr>\n",
       "      <th>3</th>\n",
       "      <td>The Very Hungry Caterpillar</td>\n",
       "      <td>7</td>\n",
       "      <td>1.272727</td>\n",
       "      <td>34</td>\n",
       "      <td>6.181818</td>\n",
       "    </tr>\n",
       "    <tr>\n",
       "      <th>4</th>\n",
       "      <td>The 7 Habits of Highly Effective People: Power...</td>\n",
       "      <td>7</td>\n",
       "      <td>1.272727</td>\n",
       "      <td>41</td>\n",
       "      <td>7.454545</td>\n",
       "    </tr>\n",
       "    <tr>\n",
       "      <th>...</th>\n",
       "      <td>...</td>\n",
       "      <td>...</td>\n",
       "      <td>...</td>\n",
       "      <td>...</td>\n",
       "      <td>...</td>\n",
       "    </tr>\n",
       "    <tr>\n",
       "      <th>346</th>\n",
       "      <td>5,000 Awesome Facts (About Everything!) (Natio...</td>\n",
       "      <td>1</td>\n",
       "      <td>0.181818</td>\n",
       "      <td>546</td>\n",
       "      <td>99.272727</td>\n",
       "    </tr>\n",
       "    <tr>\n",
       "      <th>347</th>\n",
       "      <td>1984 (Signet Classics)</td>\n",
       "      <td>1</td>\n",
       "      <td>0.181818</td>\n",
       "      <td>547</td>\n",
       "      <td>99.454545</td>\n",
       "    </tr>\n",
       "    <tr>\n",
       "      <th>348</th>\n",
       "      <td>12 Rules for Life: An Antidote to Chaos</td>\n",
       "      <td>1</td>\n",
       "      <td>0.181818</td>\n",
       "      <td>548</td>\n",
       "      <td>99.636364</td>\n",
       "    </tr>\n",
       "    <tr>\n",
       "      <th>349</th>\n",
       "      <td>11/22/63: A Novel</td>\n",
       "      <td>1</td>\n",
       "      <td>0.181818</td>\n",
       "      <td>549</td>\n",
       "      <td>99.818182</td>\n",
       "    </tr>\n",
       "    <tr>\n",
       "      <th>350</th>\n",
       "      <td>10-Day Green Smoothie Cleanse</td>\n",
       "      <td>1</td>\n",
       "      <td>0.181818</td>\n",
       "      <td>550</td>\n",
       "      <td>100.000000</td>\n",
       "    </tr>\n",
       "  </tbody>\n",
       "</table>\n",
       "<p>351 rows × 5 columns</p>\n",
       "</div>"
      ],
      "text/plain": [
       "                                                  name  count   percent  \\\n",
       "0    Publication Manual of the American Psychologic...     10  1.818182   \n",
       "1                                  StrengthsFinder 2.0      9  1.636364   \n",
       "2                            Oh, the Places You'll Go!      8  1.454545   \n",
       "3                          The Very Hungry Caterpillar      7  1.272727   \n",
       "4    The 7 Habits of Highly Effective People: Power...      7  1.272727   \n",
       "..                                                 ...    ...       ...   \n",
       "346  5,000 Awesome Facts (About Everything!) (Natio...      1  0.181818   \n",
       "347                             1984 (Signet Classics)      1  0.181818   \n",
       "348            12 Rules for Life: An Antidote to Chaos      1  0.181818   \n",
       "349                                  11/22/63: A Novel      1  0.181818   \n",
       "350                      10-Day Green Smoothie Cleanse      1  0.181818   \n",
       "\n",
       "     cumulative_count  cumulative_percent  \n",
       "0                  10            1.818182  \n",
       "1                  19            3.454545  \n",
       "2                  27            4.909091  \n",
       "3                  34            6.181818  \n",
       "4                  41            7.454545  \n",
       "..                ...                 ...  \n",
       "346               546           99.272727  \n",
       "347               547           99.454545  \n",
       "348               548           99.636364  \n",
       "349               549           99.818182  \n",
       "350               550          100.000000  \n",
       "\n",
       "[351 rows x 5 columns]"
      ]
     },
     "execution_count": 50,
     "metadata": {},
     "output_type": "execute_result"
    }
   ],
   "source": [
    "freq=df.stb.freq(['name'])\n",
    "freq"
   ]
  },
  {
   "cell_type": "code",
   "execution_count": 49,
   "metadata": {},
   "outputs": [
    {
     "data": {
      "text/html": [
       "<div>\n",
       "<style scoped>\n",
       "    .dataframe tbody tr th:only-of-type {\n",
       "        vertical-align: middle;\n",
       "    }\n",
       "\n",
       "    .dataframe tbody tr th {\n",
       "        vertical-align: top;\n",
       "    }\n",
       "\n",
       "    .dataframe thead th {\n",
       "        text-align: right;\n",
       "    }\n",
       "</style>\n",
       "<table border=\"1\" class=\"dataframe\">\n",
       "  <thead>\n",
       "    <tr style=\"text-align: right;\">\n",
       "      <th></th>\n",
       "      <th>name</th>\n",
       "      <th>year</th>\n",
       "      <th>count</th>\n",
       "      <th>percent</th>\n",
       "      <th>cumulative_count</th>\n",
       "      <th>cumulative_percent</th>\n",
       "    </tr>\n",
       "  </thead>\n",
       "  <tbody>\n",
       "    <tr>\n",
       "      <th>0</th>\n",
       "      <td>Unbroken: A World War II Story of Survival, Re...</td>\n",
       "      <td>2014</td>\n",
       "      <td>2</td>\n",
       "      <td>0.363636</td>\n",
       "      <td>2</td>\n",
       "      <td>0.363636</td>\n",
       "    </tr>\n",
       "    <tr>\n",
       "      <th>1</th>\n",
       "      <td>The Help</td>\n",
       "      <td>2011</td>\n",
       "      <td>2</td>\n",
       "      <td>0.363636</td>\n",
       "      <td>4</td>\n",
       "      <td>0.727273</td>\n",
       "    </tr>\n",
       "    <tr>\n",
       "      <th>2</th>\n",
       "      <td>The Fault in Our Stars</td>\n",
       "      <td>2014</td>\n",
       "      <td>2</td>\n",
       "      <td>0.363636</td>\n",
       "      <td>6</td>\n",
       "      <td>1.090909</td>\n",
       "    </tr>\n",
       "    <tr>\n",
       "      <th>3</th>\n",
       "      <td>You Are a Badass: How to Stop Doubting Your Gr...</td>\n",
       "      <td>2019</td>\n",
       "      <td>1</td>\n",
       "      <td>0.181818</td>\n",
       "      <td>7</td>\n",
       "      <td>1.272727</td>\n",
       "    </tr>\n",
       "    <tr>\n",
       "      <th>4</th>\n",
       "      <td>You Are a Badass: How to Stop Doubting Your Gr...</td>\n",
       "      <td>2018</td>\n",
       "      <td>1</td>\n",
       "      <td>0.181818</td>\n",
       "      <td>8</td>\n",
       "      <td>1.454545</td>\n",
       "    </tr>\n",
       "    <tr>\n",
       "      <th>...</th>\n",
       "      <td>...</td>\n",
       "      <td>...</td>\n",
       "      <td>...</td>\n",
       "      <td>...</td>\n",
       "      <td>...</td>\n",
       "      <td>...</td>\n",
       "    </tr>\n",
       "    <tr>\n",
       "      <th>542</th>\n",
       "      <td>5,000 Awesome Facts (About Everything!) (Natio...</td>\n",
       "      <td>2019</td>\n",
       "      <td>1</td>\n",
       "      <td>0.181818</td>\n",
       "      <td>546</td>\n",
       "      <td>99.272727</td>\n",
       "    </tr>\n",
       "    <tr>\n",
       "      <th>543</th>\n",
       "      <td>1984 (Signet Classics)</td>\n",
       "      <td>2017</td>\n",
       "      <td>1</td>\n",
       "      <td>0.181818</td>\n",
       "      <td>547</td>\n",
       "      <td>99.454545</td>\n",
       "    </tr>\n",
       "    <tr>\n",
       "      <th>544</th>\n",
       "      <td>12 Rules for Life: An Antidote to Chaos</td>\n",
       "      <td>2018</td>\n",
       "      <td>1</td>\n",
       "      <td>0.181818</td>\n",
       "      <td>548</td>\n",
       "      <td>99.636364</td>\n",
       "    </tr>\n",
       "    <tr>\n",
       "      <th>545</th>\n",
       "      <td>11/22/63: A Novel</td>\n",
       "      <td>2011</td>\n",
       "      <td>1</td>\n",
       "      <td>0.181818</td>\n",
       "      <td>549</td>\n",
       "      <td>99.818182</td>\n",
       "    </tr>\n",
       "    <tr>\n",
       "      <th>546</th>\n",
       "      <td>10-Day Green Smoothie Cleanse</td>\n",
       "      <td>2016</td>\n",
       "      <td>1</td>\n",
       "      <td>0.181818</td>\n",
       "      <td>550</td>\n",
       "      <td>100.000000</td>\n",
       "    </tr>\n",
       "  </tbody>\n",
       "</table>\n",
       "<p>547 rows × 6 columns</p>\n",
       "</div>"
      ],
      "text/plain": [
       "                                                  name  year  count   percent  \\\n",
       "0    Unbroken: A World War II Story of Survival, Re...  2014      2  0.363636   \n",
       "1                                             The Help  2011      2  0.363636   \n",
       "2                               The Fault in Our Stars  2014      2  0.363636   \n",
       "3    You Are a Badass: How to Stop Doubting Your Gr...  2019      1  0.181818   \n",
       "4    You Are a Badass: How to Stop Doubting Your Gr...  2018      1  0.181818   \n",
       "..                                                 ...   ...    ...       ...   \n",
       "542  5,000 Awesome Facts (About Everything!) (Natio...  2019      1  0.181818   \n",
       "543                             1984 (Signet Classics)  2017      1  0.181818   \n",
       "544            12 Rules for Life: An Antidote to Chaos  2018      1  0.181818   \n",
       "545                                  11/22/63: A Novel  2011      1  0.181818   \n",
       "546                      10-Day Green Smoothie Cleanse  2016      1  0.181818   \n",
       "\n",
       "     cumulative_count  cumulative_percent  \n",
       "0                   2            0.363636  \n",
       "1                   4            0.727273  \n",
       "2                   6            1.090909  \n",
       "3                   7            1.272727  \n",
       "4                   8            1.454545  \n",
       "..                ...                 ...  \n",
       "542               546           99.272727  \n",
       "543               547           99.454545  \n",
       "544               548           99.636364  \n",
       "545               549           99.818182  \n",
       "546               550          100.000000  \n",
       "\n",
       "[547 rows x 6 columns]"
      ]
     },
     "execution_count": 49,
     "metadata": {},
     "output_type": "execute_result"
    }
   ],
   "source": [
    "freq2=df.stb.freq(['name','year'])\n",
    "freq2"
   ]
  },
  {
   "cell_type": "markdown",
   "metadata": {},
   "source": [
    "> Hemos visto que en la columna 'name' tenemos nombres de libros duplicados. Hemos considerado hacer una tabla de frecuencias para ver a qué se debe, ya que este dato no es tan asumible como que tengamos autores duplicados. Hemos observado que los duplicados son por los diferentes años en los que se han publicado los libros, considerando que estos datos son útiles a la hora de predecir, por lo que no los vamos a eliminar. "
   ]
  },
  {
   "cell_type": "code",
   "execution_count": 32,
   "metadata": {},
   "outputs": [
    {
     "data": {
      "text/plain": [
       "0"
      ]
     },
     "execution_count": 32,
     "metadata": {},
     "output_type": "execute_result"
    }
   ],
   "source": [
    "df.duplicated().sum()"
   ]
  },
  {
   "cell_type": "code",
   "execution_count": 52,
   "metadata": {},
   "outputs": [
    {
     "data": {
      "text/plain": [
       "name           0\n",
       "author         0\n",
       "user_rating    0\n",
       "reviews        0\n",
       "price          0\n",
       "year           0\n",
       "genre          0\n",
       "dtype: int64"
      ]
     },
     "execution_count": 52,
     "metadata": {},
     "output_type": "execute_result"
    }
   ],
   "source": [
    "df.isnull().sum()"
   ]
  },
  {
   "cell_type": "code",
   "execution_count": 51,
   "metadata": {},
   "outputs": [],
   "source": [
    "# No tenemos ni nulos ni duplicados en este dataset, por lo que no debemos limpiarlo en este aspecto."
   ]
  },
  {
   "cell_type": "markdown",
   "metadata": {},
   "source": [
    "> Analizamos visualmente"
   ]
  },
  {
   "cell_type": "code",
   "execution_count": 53,
   "metadata": {},
   "outputs": [],
   "source": [
    "numericas=df.select_dtypes(include='number')"
   ]
  },
  {
   "cell_type": "code",
   "execution_count": 58,
   "metadata": {},
   "outputs": [
    {
     "data": {
      "image/png": "[encoded data removed]",
      "text/plain": [
       "<Figure size 2000x1000 with 4 Axes>"
      ]
     },
     "metadata": {},
     "output_type": "display_data"
    }
   ],
   "source": [
    "fig, axes = plt.subplots(2, 2, figsize=(20,10))\n",
    "\n",
    "axes = axes.flat\n",
    "\n",
    "for indice, columna in enumerate(numericas.columns):\n",
    "    sns.boxplot(x = numericas[columna], data = df, ax=axes[indice], color = \"aquamarine\"); # para trazar una línea de densidad\n",
    "\n",
    "    \n",
    "plt.tight_layout()\n",
    "\n",
    "plt.show()"
   ]
  },
  {
   "cell_type": "code",
   "execution_count": null,
   "metadata": {},
   "outputs": [],
   "source": [
    "# Vemos que tenemos bastantes outliers en 3 de las columnas, procedemos a sacar esos datos con una función."
   ]
  },
  {
   "cell_type": "markdown",
   "metadata": {},
   "source": [
    "> Outliers"
   ]
  },
  {
   "cell_type": "code",
   "execution_count": 60,
   "metadata": {},
   "outputs": [],
   "source": [
    "def detectar_outliers(lista_columnas, dataframe): \n",
    "    \n",
    "    dicc_indices = {} # creamos un diccionario donde almacenaremos índices de los outliers\n",
    "    \n",
    "    # iteramos por la lista de las columnas numéricas de nuestro dataframe\n",
    "    for col in lista_columnas:\n",
    "        \n",
    "        #calculamos los cuartiles Q1 y Q3\n",
    "        Q1 = np.nanpercentile(dataframe[col], 25)\n",
    "        Q3 = np.nanpercentile(dataframe[col], 75)\n",
    "        \n",
    "        # calculamos el rango intercuartil\n",
    "        IQR = Q3 - Q1\n",
    "        \n",
    "        # calculamos los límites\n",
    "        outlier_step = 1.5 * IQR\n",
    "\n",
    "        # filtramos nuestro dataframe para indentificar los outliers\n",
    "        outliers_data = dataframe[(dataframe[col] < Q1 - outlier_step) | (dataframe[col] > Q3 + outlier_step)]\n",
    "        \n",
    "        \n",
    "        if outliers_data.shape[0] > 0: # chequeamos si nuestro dataframe tiene alguna fila. \n",
    "        \n",
    "            dicc_indices[col] = (list(outliers_data.index)) # si tiene fila es que hay outliers y por lo tanto lo añadimos a nuestro diccionario\n",
    "        \n",
    "\n",
    "    \n",
    "    return dicc_indices"
   ]
  },
  {
   "cell_type": "code",
   "execution_count": 72,
   "metadata": {},
   "outputs": [
    {
     "data": {
      "text/plain": [
       "{'user_rating': [22,\n",
       "  106,\n",
       "  107,\n",
       "  132,\n",
       "  135,\n",
       "  136,\n",
       "  137,\n",
       "  154,\n",
       "  304,\n",
       "  305,\n",
       "  306,\n",
       "  307,\n",
       "  308,\n",
       "  309,\n",
       "  310,\n",
       "  311,\n",
       "  312,\n",
       "  353,\n",
       "  364,\n",
       "  392,\n",
       "  393],\n",
       " 'reviews': [32,\n",
       "  33,\n",
       "  106,\n",
       "  107,\n",
       "  135,\n",
       "  136,\n",
       "  137,\n",
       "  365,\n",
       "  366,\n",
       "  367,\n",
       "  368,\n",
       "  382,\n",
       "  383,\n",
       "  433,\n",
       "  437,\n",
       "  438,\n",
       "  534],\n",
       " 'price': [6,\n",
       "  12,\n",
       "  69,\n",
       "  70,\n",
       "  108,\n",
       "  151,\n",
       "  153,\n",
       "  156,\n",
       "  159,\n",
       "  271,\n",
       "  272,\n",
       "  273,\n",
       "  274,\n",
       "  275,\n",
       "  276,\n",
       "  277,\n",
       "  278,\n",
       "  279,\n",
       "  280,\n",
       "  338,\n",
       "  346,\n",
       "  410,\n",
       "  411,\n",
       "  439,\n",
       "  440,\n",
       "  441,\n",
       "  442,\n",
       "  443,\n",
       "  444,\n",
       "  473,\n",
       "  524]}"
      ]
     },
     "execution_count": 72,
     "metadata": {},
     "output_type": "execute_result"
    }
   ],
   "source": [
    "ind=detectar_outliers(list(numericas), df)\n",
    "ind"
   ]
  },
  {
   "cell_type": "code",
   "execution_count": 76,
   "metadata": {},
   "outputs": [
    {
     "data": {
      "text/plain": [
       "dict_keys(['user_rating', 'reviews', 'price'])"
      ]
     },
     "execution_count": 76,
     "metadata": {},
     "output_type": "execute_result"
    }
   ],
   "source": [
    "ind.keys()"
   ]
  },
  {
   "cell_type": "code",
   "execution_count": 83,
   "metadata": {},
   "outputs": [
    {
     "name": "stdout",
     "output_type": "stream",
     "text": [
      "[6, 12, 69, 70, 108, 151, 153, 156, 159, 271, 272, 273, 274, 275, 276, 277, 278, 279, 280, 338, 346, 410, 411, 439, 440, 441, 442, 443, 444, 473, 524]\n"
     ]
    }
   ],
   "source": [
    "x_price_values=ind.get('price')\n",
    "print(x_price_values)"
   ]
  },
  {
   "cell_type": "code",
   "execution_count": 84,
   "metadata": {},
   "outputs": [],
   "source": [
    "for i in x_price_values:\n",
    "    media = df['price'].median()\n",
    "    df.loc[i] = media\n"
   ]
  },
  {
   "cell_type": "code",
   "execution_count": 85,
   "metadata": {},
   "outputs": [
    {
     "data": {
      "image/png": "[encoded data removed]",
      "text/plain": [
       "<Figure size 640x480 with 1 Axes>"
      ]
     },
     "metadata": {},
     "output_type": "display_data"
    }
   ],
   "source": [
    "#Comprobamos que hemos reemplazado los outliers de 'price'\n",
    "\n",
    "sns.boxplot(x='price', data=df, color='aquamarine');"
   ]
  }
 ],
 "metadata": {
  "kernelspec": {
   "display_name": "Python 3.9.13 ('base')",
   "language": "python",
   "name": "python3"
  },
  "language_info": {
   "codemirror_mode": {
    "name": "ipython",
    "version": 3
   },
   "file_extension": ".py",
   "mimetype": "text/x-python",
   "name": "python",
   "nbconvert_exporter": "python",
   "pygments_lexer": "ipython3",
   "version": "3.9.13"
  },
  "orig_nbformat": 4,
  "vscode": {
   "interpreter": {
    "hash": "7ad202eda4b463b15866ae6aadf94c3d2752d74520fedda13d68ef6e8aba5314"
   }
  }
 },
 "nbformat": 4,
 "nbformat_minor": 2
}
